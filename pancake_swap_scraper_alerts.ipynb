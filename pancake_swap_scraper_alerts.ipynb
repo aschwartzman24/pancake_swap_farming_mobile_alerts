{
 "cells": [
  {
   "cell_type": "code",
   "execution_count": 1,
   "metadata": {},
   "outputs": [],
   "source": [
    "from selenium import webdriver\n",
    "from selenium.webdriver.support.ui import WebDriverWait\n",
    "import time\n",
    "import smtplib\n",
    "from email.message import EmailMessage\n",
    "import itertools "
   ]
  },
  {
   "cell_type": "code",
   "execution_count": 2,
   "metadata": {},
   "outputs": [],
   "source": [
    "apr_value_list = []\n",
    "name_value_list = []\n",
    "message_list = []\n",
    "message_string = \"\""
   ]
  },
  {
   "cell_type": "code",
   "execution_count": 3,
   "metadata": {},
   "outputs": [],
   "source": [
    "def scraper():\n",
    "\n",
    "\n",
    "    dropdown = driver.find_element_by_xpath('//*[@id=\"root\"]/div[1]/div/div[2]/div[2]/div[1]/div[2]/div[1]/div[2]/div[1]').click()\n",
    "    driver.implicitly_wait(15)\n",
    "    apr_click = driver.find_element_by_xpath(\"//div[text()='APR']\").click()                                      \n",
    "    driver.implicitly_wait(15)\n",
    "    crpto_name = driver.find_elements_by_xpath(\"//*[@class='sc-gtsrHT jDnmwq'][1]\")\n",
    "    apr = driver.find_elements_by_xpath(\"//*[@class='sc-jSFjdj sc-gKAaRy sc-hRUHzT kJmatq togOu dalabt'][1]\")\n",
    "    \n",
    "    for name_value in crpto_name:\n",
    "        name_value = str(name_value.text)\n",
    "        name_value_list.append(name_value)\n",
    "       \n",
    "    for apr_value in apr:\n",
    "        apr_value = str(apr_value.text)\n",
    "        new_apr_text = apr_value.replace(\"%\", \"\")\n",
    "        new_apr_float = float(new_apr_text)\n",
    "        apr_value_list.append(new_apr_float)\n",
    "        \n"
   ]
  },
  {
   "cell_type": "code",
   "execution_count": 4,
   "metadata": {},
   "outputs": [],
   "source": [
    "def clear_all_lists():\n",
    "    \n",
    "    \n",
    "    apr_value_list.clear()\n",
    "    name_value_list.clear()\n",
    "    message_list.clear()\n"
   ]
  },
  {
   "cell_type": "code",
   "execution_count": 5,
   "metadata": {},
   "outputs": [],
   "source": [
    "def message_content(message_string):\n",
    "    \n",
    "    for n,a in zip(name_value_list, apr_value_list):\n",
    "        if a > 500:\n",
    "            message_list.append([n,a])\n",
    "        else:\n",
    "            break\n",
    "    if message_list:\n",
    "        message_string = ''.join(map(str,message_list))\n",
    "        return message_string \n",
    "    else:\n",
    "        pass"
   ]
  },
  {
   "cell_type": "code",
   "execution_count": 6,
   "metadata": {},
   "outputs": [],
   "source": [
    "def send_message(to, subject, message_call = message_content(message_string)):\n",
    "    msg = EmailMessage()\n",
    "    msg['subject'] = subject\n",
    "    msg['to'] = to\n",
    "    user = \"ENTER EMAIL ADDRESS HERE\"\n",
    "    msg['from'] = user\n",
    "    app_password = \"ENTER PASSWORD HERE\"\n",
    "    message_call = message_content(message_string)\n",
    "    msg.set_content(message_call)\n",
    "    server = smtplib.SMTP(\"smtp.gmail.com\", 587)\n",
    "    server.starttls()\n",
    "    server.login(user, app_password)\n",
    "    server.send_message(msg)\n",
    "    server.quit()"
   ]
  },
  {
   "cell_type": "code",
   "execution_count": 7,
   "metadata": {},
   "outputs": [],
   "source": [
    "driver = webdriver.Chrome()\n",
    "url = 'https://pancakeswap.finance/farms'\n",
    "driver.get(url)"
   ]
  },
  {
   "cell_type": "code",
   "execution_count": 8,
   "metadata": {},
   "outputs": [
    {
     "name": "stdout",
     "output_type": "stream",
     "text": [
      "error handled:  1\n",
      "1\n",
      "error handled:  2\n",
      "2\n",
      "error handled:  3\n",
      "3\n",
      "error handled:  4\n",
      "4\n",
      "error handled:  5\n",
      "5\n",
      "error handled:  6\n",
      "6\n",
      "error handled:  7\n",
      "7\n",
      "error handled:  8\n",
      "8\n",
      "error handled:  9\n",
      "9\n"
     ]
    },
    {
     "ename": "KeyboardInterrupt",
     "evalue": "",
     "output_type": "error",
     "traceback": [
      "\u001b[0;31m---------------------------------------------------------------------------\u001b[0m",
      "\u001b[0;31mKeyboardInterrupt\u001b[0m                         Traceback (most recent call last)",
      "\u001b[0;32m<ipython-input-8-65f21ed83584>\u001b[0m in \u001b[0;36m<module>\u001b[0;34m\u001b[0m\n\u001b[1;32m     15\u001b[0m             \u001b[0mprint\u001b[0m\u001b[0;34m(\u001b[0m\u001b[0;34m'error handled: '\u001b[0m\u001b[0;34m,\u001b[0m \u001b[0mcounter\u001b[0m\u001b[0;34m)\u001b[0m\u001b[0;34m\u001b[0m\u001b[0;34m\u001b[0m\u001b[0m\n\u001b[1;32m     16\u001b[0m             \u001b[0mprint\u001b[0m\u001b[0;34m(\u001b[0m\u001b[0mcounter\u001b[0m\u001b[0;34m)\u001b[0m\u001b[0;34m\u001b[0m\u001b[0;34m\u001b[0m\u001b[0m\n\u001b[0;32m---> 17\u001b[0;31m         \u001b[0mtime\u001b[0m\u001b[0;34m.\u001b[0m\u001b[0msleep\u001b[0m\u001b[0;34m(\u001b[0m\u001b[0;36m60\u001b[0m\u001b[0;34m)\u001b[0m\u001b[0;34m\u001b[0m\u001b[0;34m\u001b[0m\u001b[0m\n\u001b[0m",
      "\u001b[0;31mKeyboardInterrupt\u001b[0m: "
     ]
    }
   ],
   "source": [
    "\n",
    "\n",
    "if __name__ == \"__main__\":\n",
    "    \n",
    "    counter = 0\n",
    "    while True:\n",
    "        clear_all_lists()\n",
    "        scraper()\n",
    "        time.sleep(5)\n",
    "        try:\n",
    "            send_message(\"INSERT PHONE NUMBER HERE\", \"Pancake Swap\", message_call = message_content(message_string))\n",
    "            time.sleep(300)\n",
    "        except:\n",
    "            KeyError\n",
    "            counter += 1\n",
    "            print('error handled: ', counter)\n",
    "        time.sleep(60)"
   ]
  }
 ],
 "metadata": {
  "kernelspec": {
   "display_name": "Python 3",
   "language": "python",
   "name": "python3"
  },
  "language_info": {
   "codemirror_mode": {
    "name": "ipython",
    "version": 3
   },
   "file_extension": ".py",
   "mimetype": "text/x-python",
   "name": "python",
   "nbconvert_exporter": "python",
   "pygments_lexer": "ipython3",
   "version": "3.8.3"
  }
 },
 "nbformat": 4,
 "nbformat_minor": 4
}
